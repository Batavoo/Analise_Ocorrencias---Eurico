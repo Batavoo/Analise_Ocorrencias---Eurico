{
 "cells": [
  {
   "cell_type": "code",
   "execution_count": 1,
   "metadata": {},
   "outputs": [],
   "source": [
    "import pandas as pd"
   ]
  },
  {
   "cell_type": "code",
   "execution_count": 3,
   "metadata": {},
   "outputs": [
    {
     "name": "stdout",
     "output_type": "stream",
     "text": [
      "<class 'pandas.core.frame.DataFrame'>\n",
      "RangeIndex: 659 entries, 0 to 658\n",
      "Data columns (total 28 columns):\n",
      " #   Column                         Non-Null Count  Dtype \n",
      "---  ------                         --------------  ----- \n",
      " 0   Carimbo de data/hora           659 non-null    object\n",
      " 1   Nome de usuário                1 non-null      object\n",
      " 2   Operador responsável           659 non-null    object\n",
      " 3   Data da Ocorrência             656 non-null    object\n",
      " 4   Hora da ocorrência             659 non-null    object\n",
      " 5   Tipo da ocorrência             659 non-null    object\n",
      " 6   Identificador da câmera        72 non-null     object\n",
      " 7   Definição do problema          72 non-null     object\n",
      " 8   Imagens associada              60 non-null     object\n",
      " 9   Observação                     21 non-null     object\n",
      " 10  Identificador da câmera.1      557 non-null    object\n",
      " 11  Tipo do problema identificado  557 non-null    object\n",
      " 12  Imagens associadas             552 non-null    object\n",
      " 13  Observação.1                   34 non-null     object\n",
      " 14  Identificador da câmera.2      15 non-null     object\n",
      " 15  Tipo do problema               15 non-null     object\n",
      " 16  Imagens associadas.1           15 non-null     object\n",
      " 17  Observação.2                   13 non-null     object\n",
      " 18  Identificador da câmera.3      13 non-null     object\n",
      " 19  Tipo do problema.1             13 non-null     object\n",
      " 20  Imagens associadas.2           13 non-null     object\n",
      " 21  Observação.3                   10 non-null     object\n",
      " 22  Identificador da câmera.4      2 non-null      object\n",
      " 23  Tipo do descarte               2 non-null      object\n",
      " 24  Gerador                        1 non-null      object\n",
      " 25  Placa                          2 non-null      object\n",
      " 26  Imagens associadas.3           2 non-null      object\n",
      " 27  Observação.4                   1 non-null      object\n",
      "dtypes: object(28)\n",
      "memory usage: 144.3+ KB\n"
     ]
    }
   ],
   "source": [
    "df = pd.read_csv('Ocorrências Videomonitoramento.csv')\n",
    "\n",
    "df.head()\n",
    "\n",
    "df.info()\n",
    "\n"
   ]
  }
 ],
 "metadata": {
  "kernelspec": {
   "display_name": "base",
   "language": "python",
   "name": "python3"
  },
  "language_info": {
   "codemirror_mode": {
    "name": "ipython",
    "version": 3
   },
   "file_extension": ".py",
   "mimetype": "text/x-python",
   "name": "python",
   "nbconvert_exporter": "python",
   "pygments_lexer": "ipython3",
   "version": "3.12.3"
  }
 },
 "nbformat": 4,
 "nbformat_minor": 2
}
