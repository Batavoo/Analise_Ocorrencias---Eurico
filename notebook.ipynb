{
 "cells": [
  {
   "cell_type": "code",
   "execution_count": 36,
   "metadata": {},
   "outputs": [],
   "source": [
    "import pandas as pd"
   ]
  },
  {
   "cell_type": "code",
   "execution_count": 41,
   "metadata": {},
   "outputs": [
    {
     "name": "stdout",
     "output_type": "stream",
     "text": [
      "<class 'pandas.core.frame.DataFrame'>\n",
      "RangeIndex: 3667 entries, 0 to 3666\n",
      "Data columns (total 28 columns):\n",
      " #   Column                         Non-Null Count  Dtype \n",
      "---  ------                         --------------  ----- \n",
      " 0   Carimbo de data/hora           3667 non-null   object\n",
      " 1   Nome de usuário                1 non-null      object\n",
      " 2   Operador responsável           3667 non-null   object\n",
      " 3   Data da Ocorrência             3664 non-null   object\n",
      " 4   Hora da ocorrência             3667 non-null   object\n",
      " 5   Tipo da ocorrência             3667 non-null   object\n",
      " 6   Identificador da câmera        500 non-null    object\n",
      " 7   Definição do problema          500 non-null    object\n",
      " 8   Imagens associada              488 non-null    object\n",
      " 9   Observação                     53 non-null     object\n",
      " 10  Identificador da câmera.1      3047 non-null   object\n",
      " 11  Tipo do problema identificado  3047 non-null   object\n",
      " 12  Imagens associadas             3042 non-null   object\n",
      " 13  Observação.1                   102 non-null    object\n",
      " 14  Identificador da câmera.2      75 non-null     object\n",
      " 15  Tipo do problema               75 non-null     object\n",
      " 16  Imagens associadas.1           75 non-null     object\n",
      " 17  Observação.2                   46 non-null     object\n",
      " 18  Identificador da câmera.3      33 non-null     object\n",
      " 19  Tipo do problema.1             33 non-null     object\n",
      " 20  Imagens associadas.2           33 non-null     object\n",
      " 21  Observação.3                   10 non-null     object\n",
      " 22  Identificador da câmera.4      12 non-null     object\n",
      " 23  Tipo do descarte               12 non-null     object\n",
      " 24  Gerador                        11 non-null     object\n",
      " 25  Placa                          10 non-null     object\n",
      " 26  Imagens associadas.3           12 non-null     object\n",
      " 27  Observação.4                   8 non-null      object\n",
      "dtypes: object(28)\n",
      "memory usage: 802.3+ KB\n"
     ]
    }
   ],
   "source": [
    "df = pd.read_excel('planilha_ocorrencias_tratadas.xlsx')\n",
    "df_antigo = pd.read_csv('Ocorrências Videomonitoramento.csv')\n",
    "\n",
    "\n",
    "df_antigo.info()\n"
   ]
  },
  {
   "cell_type": "code",
   "execution_count": null,
   "metadata": {},
   "outputs": [],
   "source": [
    "df.to_csv('planilha_ocorrencias_tratadas.xlsx')"
   ]
  }
 ],
 "metadata": {
  "kernelspec": {
   "display_name": "base",
   "language": "python",
   "name": "python3"
  },
  "language_info": {
   "codemirror_mode": {
    "name": "ipython",
    "version": 3
   },
   "file_extension": ".py",
   "mimetype": "text/x-python",
   "name": "python",
   "nbconvert_exporter": "python",
   "pygments_lexer": "ipython3",
   "version": "3.12.3"
  }
 },
 "nbformat": 4,
 "nbformat_minor": 2
}
